{
 "cells": [
  {
   "cell_type": "markdown",
   "id": "306313db",
   "metadata": {},
   "source": [
    "# Jawan Pakistan Assignment 1"
   ]
  },
  {
   "cell_type": "code",
   "execution_count": 11,
   "id": "90c12e49",
   "metadata": {},
   "outputs": [
    {
     "name": "stdout",
     "output_type": "stream",
     "text": [
      "Twinkle, twinkle, little star,\n",
      "                  How I wonder what you are!\n",
      "                           Up about the world so high,\n",
      "                           Like a diamond in the sky.\n",
      "Twinkle, twinkle, little star,\n",
      "                  How I wonder what you are!\n"
     ]
    }
   ],
   "source": [
    "#Task1\n",
    "print ('''Twinkle, twinkle, little star,\n",
    "                  How I wonder what you are!\n",
    "                           Up about the world so high,\n",
    "                           Like a diamond in the sky.\n",
    "Twinkle, twinkle, little star,\n",
    "                  How I wonder what you are!''')"
   ]
  },
  {
   "cell_type": "code",
   "execution_count": 12,
   "id": "9bb76cbd",
   "metadata": {},
   "outputs": [
    {
     "name": "stdout",
     "output_type": "stream",
     "text": [
      "Python version\n",
      "3.9.7 (default, Sep 16 2021, 16:59:28) [MSC v.1916 64 bit (AMD64)]\n"
     ]
    }
   ],
   "source": [
    "# task 2\n",
    "import sys\n",
    "print(\"Python version\")\n",
    "print (sys.version)"
   ]
  },
  {
   "cell_type": "code",
   "execution_count": 22,
   "id": "9b54e719",
   "metadata": {},
   "outputs": [
    {
     "name": "stdout",
     "output_type": "stream",
     "text": [
      "now = 2022-01-01 14:41:41.128290\n",
      "date and time = 01/01/2022 14:41:41\n"
     ]
    }
   ],
   "source": [
    "# Task 3\n",
    "from datetime import datetime\n",
    "\n",
    "# datetime object containing current date and time\n",
    "now = datetime.now()\n",
    "\n",
    "print(\"now =\", now)\n",
    "\n",
    "# dd/mm/YY H:M:S\n",
    "dt_string = now.strftime(\"%d/%m/%Y %H:%M:%S\")\n",
    "print(\"date and time =\", )"
   ]
  },
  {
   "cell_type": "code",
   "execution_count": null,
   "id": "e3854822",
   "metadata": {},
   "outputs": [],
   "source": [
    "# Task 4\n",
    "rad=float(input(\"Enter the radius\\n\"));\n",
    "Area=3.14*rad*rad;\n",
    "print('The Area is ',Area)"
   ]
  },
  {
   "cell_type": "code",
   "execution_count": null,
   "id": "91b206c4",
   "metadata": {},
   "outputs": [],
   "source": [
    "# Task 5\n",
    "fname=input(\"Enter the First name\")\n",
    "lname=input(\"Enter the Last name\")\n",
    "fname=fname[::-1]\n",
    "lname=lname[::-1]\n",
    "print( 'Your name is ',fname,lname)"
   ]
  },
  {
   "cell_type": "code",
   "execution_count": null,
   "id": "fed184ea",
   "metadata": {},
   "outputs": [],
   "source": [
    "#Task 6\n",
    "n1=int(input(\"Enter First Number\\n\"))\n",
    "n2=int(input(\"Enter Second Number\\n\"))\n",
    "print('Sum of',n1,'and',n2,'is',n1+n2)"
   ]
  },
  {
   "cell_type": "code",
   "execution_count": null,
   "id": "0f2cfdfe",
   "metadata": {},
   "outputs": [],
   "source": []
  }
 ],
 "metadata": {
  "kernelspec": {
   "display_name": "Python 3 (ipykernel)",
   "language": "python",
   "name": "python3"
  },
  "language_info": {
   "codemirror_mode": {
    "name": "ipython",
    "version": 3
   },
   "file_extension": ".py",
   "mimetype": "text/x-python",
   "name": "python",
   "nbconvert_exporter": "python",
   "pygments_lexer": "ipython3",
   "version": "3.9.7"
  }
 },
 "nbformat": 4,
 "nbformat_minor": 5
}
